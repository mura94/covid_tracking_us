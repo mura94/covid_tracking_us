{
 "cells": [
  {
   "cell_type": "code",
   "execution_count": null,
   "metadata": {},
   "outputs": [],
   "source": [
    "import csv\n",
    "import requests\n",
    "import numpy as np\n",
    "import pandas as pd\n",
    "from io import StringIO\n",
    "import matplotlib.pyplot as plt\n",
    "import matplotlib.gridspec as gridspec\n",
    "from datetime import datetime\n",
    "import matplotlib.lines as mlines\n",
    "import matplotlib.offsetbox as offsetbox\n",
    "import formatting as form\n",
    "\n",
    "plt.close('all')"
   ]
  },
  {
   "cell_type": "code",
   "execution_count": null,
   "metadata": {},
   "outputs": [],
   "source": [
    "CSV_URL = 'https://covidtracking.com/api/v1/states/daily.csv'\n",
    "\n",
    "with requests.Session() as s:\n",
    "    download = s.get(CSV_URL)\n",
    "    download\n",
    "    decoded_content = download.content.decode('utf-8')\n",
    "    cr = pd.read_csv(StringIO(decoded_content))\n",
    "    df = pd.DataFrame(cr)"
   ]
  },
  {
   "cell_type": "code",
   "execution_count": null,
   "metadata": {},
   "outputs": [],
   "source": [
    "# Convert date integers to DateTime\n",
    "date = pd.to_datetime(df['date'].astype(str), format='%Y%m%d')\n",
    "#Applied in a new DataFrame\n",
    "df = pd.DataFrame({'date':date, 'state':df['state'], 'positiveIncrease':df['positiveIncrease']})"
   ]
  },
  {
   "cell_type": "code",
   "execution_count": null,
   "metadata": {},
   "outputs": [],
   "source": [
    "#List containing every state abbreviation (includes DC)\n",
    "stateNames = ['WA', 'ID', 'MT', 'ND', 'MN','WI','MI','NY','VT', 'NH','ME',\n",
    "             'OR','WY', 'SD', 'IA', 'IL', 'IN', 'OH', 'PA', 'MA', 'RI', 'CT', 'NJ',\n",
    "             'DE', 'MD', 'DC', 'CA', 'NV', 'UT', 'CO', 'NE', 'MO', 'KS', 'OK', 'NM', \n",
    "              'AZ', 'TX', 'LA', 'AR', 'TN', 'MS', 'AL', 'KY', 'WV', 'VA', 'NC',\n",
    "             'SC', 'GA', 'FL', 'AK', 'HI']"
   ]
  },
  {
   "cell_type": "code",
   "execution_count": null,
   "metadata": {},
   "outputs": [],
   "source": [
    "# Create a new DataFrame with each state as a column and their positiveIncreases as rows, indexed by date.\n",
    "# I'm sure there's a cleaner way to do this...\n",
    "dfstates = []\n",
    "\n",
    "for name in stateNames:\n",
    "    sel = df[(df['state']==name)]\n",
    "    sel.index=sel['date']\n",
    "    dfstates.insert(len(dfstates), sel)\n",
    "s = 'positiveIncrease'\n",
    "dfgroup = pd.DataFrame()\n",
    "\n",
    "for d in dfstates:\n",
    "    dfgroup[d['state'][0]] = d[s]"
   ]
  },
  {
   "cell_type": "code",
   "execution_count": null,
   "metadata": {},
   "outputs": [],
   "source": [
    "#Compares weekly totals to the previous week for 7 weeks. Returns how many consecutive weeks saw a relative increase to the previous week.\n",
    "def consecutiveWeeksIncreased(state):\n",
    "    weeks = 0\n",
    "    prev = 999999\n",
    "    for week in range(7):\n",
    "        thisWeekSum = sumRange(state, weeks * 7, weeks * 7 + 8)\n",
    "        if thisWeekSum <= prev:\n",
    "            prev = thisWeekSum\n",
    "            weeks += 1\n",
    "        else:\n",
    "            return weeks\n",
    "    return weeks"
   ]
  },
  {
   "cell_type": "code",
   "execution_count": null,
   "metadata": {},
   "outputs": [],
   "source": [
    "# Returns the sum of contents within a list's range\n",
    "def sumRange(L,a,b):                                                                                                                                                                                                \n",
    "    sum = 0                                                                                                                                                                                                         \n",
    "    for i in range(a,b+1,1):                                                                                                                                                                                        \n",
    "        sum += L[i]                                                                                                                                                                                                  \n",
    "    return sum      "
   ]
  },
  {
   "cell_type": "code",
   "execution_count": null,
   "metadata": {},
   "outputs": [],
   "source": [
    "#Create a subplot for the state by state abbreviation\n",
    "def do_plot(ax, name):\n",
    "    \n",
    "    #Get color pair based on how many weeks the state has seen an increase in total cases\n",
    "    weeksClimbing = consecutiveWeeksIncreased(dfgroup[name])\n",
    "    colors = form.getContrastingColors(weeksClimbing)\n",
    "    faceColor = colors[0]\n",
    "    infoColor = colors[1]\n",
    "    \n",
    "    #Set the face color\n",
    "    ax.set_facecolor(faceColor)\n",
    "    \n",
    "    #plot the data for this state\n",
    "    ax.plot(dfgroup[name], color=(infoColor), linewidth=1)\n",
    "    \n",
    "    #remove the labels, grids & ticks for a cleaner look\n",
    "    ax.set_xlabel('')\n",
    "    ax.grid(False)\n",
    "    ax.set_xticklabels('')\n",
    "    ax.set_yticklabels('')\n",
    "    \n",
    "    #Display the state abbreviation title\n",
    "    ax.set_title(name,horizontalalignment='left', color=(infoColor), fontweight=\"bold\", fontsize=14, x=0.025, y=.775)\n",
    "    \n",
    "    #Display a subtle border\n",
    "    form.formatBorder(ax)\n",
    "    \n",
    "    #Display a '100 new cases' threshold for scale\n",
    "    ax.axhline(y=100, color='r', linestyle='-', linewidth=.2)\n",
    "\n",
    "    #Latest increase    \n",
    "    lastChange = form.getLastIncreaseChange(name, dfgroup)\n",
    "    changeNote = '(' + form.getIncreaseSign(lastChange) + str(lastChange) + ')'\n",
    "    ax.annotate(s= '+'+str(int(dfgroup[name][0])), xy=(.025, 0.7), xycoords='axes fraction', fontsize=11, color=infoColor)\n",
    "    \n",
    "    #Latest increase vs previous day\n",
    "    ax.annotate(s= changeNote, xy=(.025, 0.6), xycoords='axes fraction', fontsize=11, color=form.getIncreaseColor(lastChange))\n",
    "    \n",
    "    #Subtle label background (in progress)\n",
    "    #box = offsetbox.AnchoredOffsetbox()"
   ]
  },
  {
   "cell_type": "code",
   "execution_count": null,
   "metadata": {},
   "outputs": [],
   "source": [
    "# Add a state to the grid by abbreviation\n",
    "def add_state(figure, stateName, grid):\n",
    "    state = figure.add_subplot(grid)\n",
    "    do_plot(state, stateName)\n",
    "    return state"
   ]
  },
  {
   "cell_type": "code",
   "execution_count": null,
   "metadata": {},
   "outputs": [],
   "source": [
    "#'Last updated on' string\n",
    "now = datetime.now()\n",
    "dt_string = now.strftime(\"%m/%d/%Y %H:%M:%S\")\n",
    "dt_string = \"Last updated: \" + dt_string"
   ]
  },
  {
   "cell_type": "code",
   "execution_count": null,
   "metadata": {},
   "outputs": [],
   "source": [
    "#Subtitle - date range\n",
    "lastDate = date[0]\n",
    "lastDate = lastDate = lastDate.month_name() + ' ' + str(lastDate.day)\n",
    "shape = date.shape\n",
    "firstDate = date[shape[0]-1]\n",
    "firstDate = firstDate.month_name() + ' ' + str(firstDate.day)\n",
    "dateRangeString = 'From ' + firstDate + ' to ' + lastDate"
   ]
  },
  {
   "cell_type": "code",
   "execution_count": null,
   "metadata": {},
   "outputs": [],
   "source": [
    "#Adding groups of states in vertical columns using a list of abbreviation strings\n",
    "def add_column(fig, names, column, grid):\n",
    "    row = 0\n",
    "    for name in names:\n",
    "        if(name == \"\"):\n",
    "            row+=1\n",
    "            continue\n",
    "        else:\n",
    "            add_state(fig, name, grid[row, column])\n",
    "            row+=1"
   ]
  },
  {
   "cell_type": "code",
   "execution_count": null,
   "metadata": {},
   "outputs": [],
   "source": [
    "# Plot setup\n",
    "plt.style.use('fivethirtyeight')\n",
    "\n",
    "g = gridspec.GridSpec(11, 11)\n",
    "\n",
    "fig = plt.figure(figsize=(30,25), facecolor=form.light)\n",
    "\n",
    "#Title\n",
    "fig.suptitle('US Daily COVID-19 Case Increases', y=0.85, fontsize=24, color=form.titleColor)\n",
    "fig.text(.5, .822, s=dateRangeString, color = form.titleColor, horizontalAlignment = 'center')\n",
    "\n",
    "#'Last updated on'\n",
    "fig.text(x=0, y=.25, s=dt_string, color=form.labelColor)\n",
    "x = .1\n",
    "y =.75\n",
    "\n",
    "#Create legend\n",
    "redline = mlines.Line2D([], [], color=form.redBar, marker='', markersize=15, label='100 new cases per day')\n",
    "twoWeeksIncrease = mlines.Line2D([],[], color = form.medLight, marker='s',markersize=30, label='Rising for 2 weeks')\n",
    "threeWeeksIncrease = mlines.Line2D([],[], color = form.medium, marker='s',markersize=30, label='Rising for 3 weeks')\n",
    "fourWeeksIncrease = mlines.Line2D([],[], color = form.medDark, marker='s',markersize=30, label='Rising for 4+ weeks')\n",
    "\n",
    "legend = fig.legend(handles=[redline, twoWeeksIncrease, threeWeeksIncrease, fourWeeksIncrease], loc='upper left',borderaxespad=7, framealpha=0, labelspacing=2)\n",
    "\n",
    "for t in legend.get_texts():\n",
    "    t.set_color(form.labelColor)\n",
    "    \n",
    "# Create state subplots\n",
    "add_column(fig, ['', '', 'WA', 'OR', 'CA',  '', '', 'HI'], 0, g)\n",
    "add_column(fig, ['', '', 'ID', 'NV', 'UT', 'AZ', '', 'AK'], 1, g)\n",
    "add_column(fig, ['','', 'MT', 'WY', 'CO', 'NM'], 2, g)\n",
    "add_column(fig, ['','','ND','SD', 'NE', 'KS', 'OK', 'TX'], 3, g)\n",
    "add_column(fig, ['', '', 'MN', 'IA', 'MO', 'AR', 'LA'], 4, g)\n",
    "add_column(fig, ['', 'WI', 'IL', 'IN', 'KY', 'TN', 'MS'], 5, g)\n",
    "add_column(fig, ['', '','MI', 'OH', 'WV', 'NC', 'AL'], 6, g)\n",
    "add_column(fig, ['', '', '', 'PA', 'VA', 'SC', 'GA'], 7, g)\n",
    "add_column(fig, ['', '', 'NY', 'NJ', 'MD', '', '', 'FL'], 8, g)\n",
    "add_column(fig, ['', 'VT', 'MA', 'CT', 'DE'], 9, g)\n",
    "add_column(fig, ['ME', 'NH', 'RI', 'DC'], 10, g)\n",
    "\n",
    "#create guide info\n",
    "\n",
    "ax = fig.axes[0]\n",
    "\n",
    "form.createLabelGuide(ax, 'State', (0, .85), 'axes fraction', .9)\n",
    "form.createLabelGuide(ax, 'Latest increase', (0.01, .72), 'axes fraction', .7)\n",
    "form.createLabelGuide(ax, 'Relative to prev. day', (.01, .63), 'axes fraction', .5)\n",
    "form.createLabelGuide(ax, '100 new cases', (date[date.shape[0]-1], 100), 'data', .3)\n",
    "\n",
    "#Data source label\n",
    "fig.text(x=.96, y=.25, s='Data collected via covidtracking.com', color = form.labelColor, horizontalAlignment='right')"
   ]
  },
  {
   "cell_type": "code",
   "execution_count": null,
   "metadata": {},
   "outputs": [],
   "source": []
  }
 ],
 "metadata": {
  "kernelspec": {
   "display_name": "Python 3",
   "language": "python",
   "name": "python3"
  },
  "language_info": {
   "codemirror_mode": {
    "name": "ipython",
    "version": 3
   },
   "file_extension": ".py",
   "mimetype": "text/x-python",
   "name": "python",
   "nbconvert_exporter": "python",
   "pygments_lexer": "ipython3",
   "version": "3.8.3-final"
  }
 },
 "nbformat": 4,
 "nbformat_minor": 4
}