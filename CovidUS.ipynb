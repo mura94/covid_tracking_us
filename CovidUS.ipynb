{
 "cells": [
  {
   "cell_type": "code",
   "execution_count": 952,
   "metadata": {},
   "outputs": [],
   "source": [
    "import csv\n",
    "import requests\n",
    "import numpy as np\n",
    "import pandas as pd\n",
    "from io import StringIO\n",
    "import matplotlib.pyplot as plt\n",
    "import matplotlib.gridspec as gridspec\n",
    "from datetime import datetime\n",
    "import matplotlib.patches as patches\n",
    "import matplotlib.lines as lines\n",
    "\n",
    "plt.close('all')"
   ]
  },
  {
   "cell_type": "code",
   "execution_count": 953,
   "metadata": {},
   "outputs": [],
   "source": [
    "CSV_URL = 'https://covidtracking.com/api/v1/states/daily.csv'\n",
    "\n",
    "with requests.Session() as s:\n",
    "    download = s.get(CSV_URL)\n",
    "    download\n",
    "    decoded_content = download.content.decode('utf-8')\n",
    "    cr = pd.read_csv(StringIO(decoded_content))\n",
    "    df = pd.DataFrame(cr)   "
   ]
  },
  {
   "cell_type": "code",
   "execution_count": 954,
   "metadata": {},
   "outputs": [
    {
     "data": {
      "text/plain": [
       "51"
      ]
     },
     "execution_count": 954,
     "metadata": {},
     "output_type": "execute_result"
    }
   ],
   "source": [
    "date = pd.to_datetime(df['date'].astype(str), format='%Y%m%d')\n",
    "df = pd.DataFrame({'date':date, 'state':df['state'], 'positiveIncrease':df['positiveIncrease']})\n",
    "\n",
    "stateNames = ['WA', 'ID', 'MT', 'ND', 'MN','WI','MI','NY','VT', 'NH','ME',\n",
    "             'OR','WY', 'SD', 'IA', 'IL', 'IN', 'OH', 'PA', 'MA', 'RI', 'CT', 'NJ',\n",
    "             'DE', 'MD', 'DC', 'CA', 'NV', 'UT', 'CO', 'NE', 'MO', 'KS', 'OK', 'NM', \n",
    "              'AZ', 'TX', 'LA', 'AR', 'TN', 'MS', 'AL', 'KY', 'WV', 'VA', 'NC',\n",
    "             'SC', 'GA', 'FL', 'AK', 'HI']\n",
    "dfstates = []\n",
    "len(stateNames)"
   ]
  },
  {
   "cell_type": "code",
   "execution_count": 955,
   "metadata": {},
   "outputs": [],
   "source": [
    "# I'm sure there's a cleaner way to do this...\n",
    "\n",
    "for name in stateNames:\n",
    "    sel = df[(df['state']==name)]\n",
    "    sel.index=sel['date']\n",
    "    dfstates.insert(len(dfstates), sel)\n",
    "s = 'positiveIncrease'\n",
    "dfgroup = pd.DataFrame()\n",
    "\n",
    "for d in dfstates:\n",
    "    dfgroup[d['state'][0]] = d[s]"
   ]
  },
  {
   "cell_type": "code",
   "execution_count": 956,
   "metadata": {},
   "outputs": [],
   "source": [
    "#Define color pallete\n",
    "\n",
    "redBar = '#ECCFC2'\n",
    "twoWeeksRisingColor = '#F0EBD8'\n",
    "threeWeeksIncreaseColor = '#F2DFAE'\n",
    "sevenDayDecreaseColor = '#D8F0DF'\n",
    "borderColor = \"#E1DDBF\"\n",
    "fourWeeksIncreaseColor = '#F5DFDC'"
   ]
  },
  {
   "cell_type": "code",
   "execution_count": 957,
   "metadata": {
    "jupyter": {
     "source_hidden": true
    }
   },
   "outputs": [],
   "source": [
    "def formatBorder(ax):\n",
    "    for spineName in ax.spines:\n",
    "        ax.spines[spineName].set_color(borderColor)\n",
    "        ax.spines[spineName].set_linewidth(2)"
   ]
  },
  {
   "cell_type": "code",
   "execution_count": 958,
   "metadata": {
    "jupyter": {
     "source_hidden": true
    }
   },
   "outputs": [],
   "source": [
    "def sumRange(L,a,b):                                                                                                                                                                                                \n",
    "    sum = 0                                                                                                                                                                                                         \n",
    "    for i in range(a,b+1,1):                                                                                                                                                                                        \n",
    "        sum += L[i]                                                                                                                                                                                                  \n",
    "    return sum      "
   ]
  },
  {
   "cell_type": "code",
   "execution_count": 959,
   "metadata": {
    "jupyter": {
     "source_hidden": true
    }
   },
   "outputs": [],
   "source": [
    "def consecutiveWeeksIncreased(state):\n",
    "    weeks = 0\n",
    "    prev = 999999\n",
    "    for week in range(10):\n",
    "        thisWeekSum = sumRange(state, weeks * 7, weeks * 7 + 8)\n",
    "        if thisWeekSum <= prev:\n",
    "            prev = thisWeekSum\n",
    "            weeks += 1\n",
    "        else:\n",
    "            return weeks\n",
    "    return weeks"
   ]
  },
  {
   "cell_type": "code",
   "execution_count": 960,
   "metadata": {
    "jupyter": {
     "source_hidden": true
    }
   },
   "outputs": [
    {
     "data": {
      "text/plain": [
       "4909"
      ]
     },
     "execution_count": 960,
     "metadata": {},
     "output_type": "execute_result"
    }
   ],
   "source": [
    "state = dfgroup['WA']\n",
    "week = 0\n",
    "weekSum = sumRange(state, week * 7, week * 7 + 8)\n",
    "weekSum"
   ]
  },
  {
   "cell_type": "code",
   "execution_count": 961,
   "metadata": {
    "jupyter": {
     "source_hidden": true
    }
   },
   "outputs": [
    {
     "data": {
      "text/plain": [
       "2280"
      ]
     },
     "execution_count": 961,
     "metadata": {},
     "output_type": "execute_result"
    }
   ],
   "source": [
    "week = 1\n",
    "weekSum = sumRange(state, week * 7, week * 7 + 8)\n",
    "weekSum"
   ]
  },
  {
   "cell_type": "code",
   "execution_count": 978,
   "metadata": {},
   "outputs": [],
   "source": [
    "def do_plot(ax, name):\n",
    "    color = 'C'+str(dfgroup.columns.get_loc(name))\n",
    "    ax.plot(dfgroup[name], color=(color), linewidth=1)\n",
    "    ax.set_xlabel('')\n",
    "    ax.grid(False)\n",
    "    ax.set_xticklabels('')\n",
    "    ax.set_yticklabels('')\n",
    "    ax.set_title(name,horizontalalignment='left', color=(color), fontweight=\"bold\", fontsize=12, x=0.025, y=.75)\n",
    "    formatBorder(ax)\n",
    "    weeksClimbing = consecutiveWeeksIncreased(dfgroup[name])\n",
    "    if(weeksClimbing >= 4):\n",
    "        ax.set_facecolor(fourWeeksIncreaseColor)\n",
    "    else :\n",
    "        if(weeksClimbing >=3):\n",
    "            ax.set_facecolor(threeWeeksIncreaseColor)\n",
    "        else:\n",
    "            if(weeksClimbing >= 2):\n",
    "                ax.set_facecolor(twoWeeksRisingColor)\n",
    "    ax.axhline(y=100, color='r', linestyle='-', linewidth=.2)\n",
    "    #ax.annotate(s= str(weeksClimbing), xy=(0.1, 0.1), xycoords='axes fraction')"
   ]
  },
  {
   "cell_type": "code",
   "execution_count": 979,
   "metadata": {
    "jupyter": {
     "source_hidden": true
    }
   },
   "outputs": [],
   "source": [
    "def add_state(figure, stateName, grid):\n",
    "    state = figure.add_subplot(grid)\n",
    "    do_plot(state, stateName)\n",
    "    return state"
   ]
  },
  {
   "cell_type": "code",
   "execution_count": 980,
   "metadata": {},
   "outputs": [],
   "source": [
    "now = datetime.now()\n",
    "dt_string = now.strftime(\"%d/%m/%Y %H:%M:%S\")\n",
    "dt_string = \"Last updated \" + dt_string"
   ]
  },
  {
   "cell_type": "code",
   "execution_count": 981,
   "metadata": {},
   "outputs": [],
   "source": [
    "def add_column(fig, names, column, grid):\n",
    "    row = 0\n",
    "    for name in names:\n",
    "        if(name == \"\"):\n",
    "            row+=1\n",
    "            continue\n",
    "        else:\n",
    "            add_state(fig, name, grid[row, column])\n",
    "            row+=1"
   ]
  },
  {
   "cell_type": "code",
   "execution_count": null,
   "metadata": {},
   "outputs": [],
   "source": [
    "plt.style.use('fivethirtyeight')\n",
    "\n",
    "g = gridspec.GridSpec(11, 11)\n",
    "\n",
    "fig = plt.figure(figsize=(25,20))\n",
    "titleColor = '#706343'\n",
    "labelColor = '#706D65'\n",
    "fig.suptitle('US Daily COVID-19 Case Increases', y=0.85, fontsize=24, color=titleColor)\n",
    "fig.text(x=0, y=.25, s=dt_string, color = labelColor)\n",
    "\n",
    "x = .1\n",
    "y =.75\n",
    "\n",
    "\n",
    "#Create legend\n",
    "redline = mlines.Line2D([], [], color=redBar, marker='', markersize=15, label='100 new cases per day')\n",
    "twoWeeksIncrease = mlines.Line2D([],[], color = twoWeeksRisingColor, marker='s',markersize=30, label='Rising for 2 weeks')\n",
    "threeWeeksIncrease = mlines.Line2D([],[], color = threeWeeksIncreaseColor, marker='s',markersize=30, label='Rising for 3 weeks')\n",
    "fourWeeksIncrease = mlines.Line2D([],[], color = fourWeeksIncreaseColor, marker='s',markersize=30, label='Rising for 4+ weeks')\n",
    "\n",
    "legend = fig.legend(handles=[redline, twoWeeksIncrease, threeWeeksIncrease, fourWeeksIncrease], loc='upper left',borderaxespad=7, framealpha=0, labelspacing=2)\n",
    "\n",
    "for t in legend.get_texts():\n",
    "    t.set_color(labelColor)\n",
    "    \n",
    "\n",
    "# Create state subplots\n",
    "add_column(fig, ['', '', 'WA', 'OR', 'CA',  '', '', 'HI'], 0, g)\n",
    "add_column(fig, ['', '', 'ID', 'NV', 'UT', 'AZ', '', 'AK'], 1, g)\n",
    "add_column(fig, ['','', 'MT', 'WY', 'CO', 'NM'], 2, g)\n",
    "add_column(fig, ['','','ND','SD', 'NE', 'KS', 'OK', 'TX'], 3, g)\n",
    "add_column(fig, ['', '', 'MN', 'IA', 'MO', 'AR', 'LA'], 4, g)\n",
    "add_column(fig, ['', 'WI', 'IL', 'IN', 'KY', 'TN', 'MS'], 5, g)\n",
    "add_column(fig, ['', '','MI', 'OH', 'WV', 'NC', 'AL'], 6, g)\n",
    "add_column(fig, ['', '', '', 'PA', 'VA', 'SC', 'GA'], 7, g)\n",
    "add_column(fig, ['', '', 'NY', 'NJ', 'MD', '', '', 'FL'], 8, g)\n",
    "add_column(fig, ['', 'VT', 'MA', 'CT', 'DE'], 9, g)\n",
    "add_column(fig, ['ME', 'NH', 'RI', 'DC'], 10, g)\n",
    "\n",
    "#Data source label\n",
    "fig.text(x=.7, y=.25, s='Data collected from covidtracking.com', color = labelColor, horizontalAlignment='right')"
   ]
  },
  {
   "cell_type": "code",
   "execution_count": null,
   "metadata": {},
   "outputs": [],
   "source": []
  },
  {
   "cell_type": "code",
   "execution_count": null,
   "metadata": {},
   "outputs": [],
   "source": []
  }
 ],
 "metadata": {
  "kernelspec": {
   "display_name": "Python 3",
   "language": "python",
   "name": "python3"
  },
  "language_info": {
   "codemirror_mode": {
    "name": "ipython",
    "version": 3
   },
   "file_extension": ".py",
   "mimetype": "text/x-python",
   "name": "python",
   "nbconvert_exporter": "python",
   "pygments_lexer": "ipython3",
   "version": "3.7.6"
  }
 },
 "nbformat": 4,
 "nbformat_minor": 4
}
